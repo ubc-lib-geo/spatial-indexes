{
 "cells": [
  {
   "cell_type": "markdown",
   "id": "18b4164a",
   "metadata": {},
   "source": [
    "### What does this script do?\n",
    "The following is a Python script which cleans and normalizes metadata in accordance with the Open Index Map (OIM) specification: https://openindexmaps.org/specification/1.0.0. These metadata come from a set of manually-created map-inventory spreadsheets, which are combined with digital map indexes to produce GeoJSON files. (See more at https://github.com/ubc-lib-geo/creating-index-maps.)\n",
    "\n",
    "This script:\n",
    "- Imports all GeoJSON files within each continent/region subdirectory in the 'spatial-indexes' repository of the 'ubc-lib-geo' GitHub organization: https://github.com/ubc-lib-geo/spatial-indexes\n",
    "- Combines all files into a single object (a GeoPandas GeoDataFrame)\n",
    "- Compares the column labels (element titles) against the OIM specification\n",
    "    - These element titles were input into a spreadsheet and then imported into this script\n",
    "    - For instances where the element title does not match the OIM specification *and* there exists a corresponding field to map the data to (e.g., 'notes' and 'note' fields)--meaning the relevant data is split between more than one column--data is transferred from the non-matching field to the OIM-compliant field\n",
    "        - After completing this, all non-compliant fields are removed\n",
    "    - For instances where the element title does not match the OIM specification, *but* all relevant data is located in that single column, the column label is changed to match the element title in the OIM specification\n",
    "    - For instances where the element title not only does not match the OIM specification, *but* no corresponding element title exists within the specification (e.g., 'editionNotes'), data will be mapped to another selected field (e.g., 'edition' or 'note')\n",
    "        - If data already exists in the selected field (e.g., 'edition' or 'note'), the data from the no-equivalent field (e.g., 'editionNotes') will be appended to it using the separator '; '\n",
    "- Removes any extra white space at the beginning and end of all values\n",
    "- For fields with an OIM-specified data type of boolean (i.e., 'available', 'contLines', 'bathLines'), existing values are mapped to the form 'true' or 'false', as outlined in the OIM specification\n",
    "    - Files containing null values in these fields are identified\n",
    "    - With the exception of the 'available' field, null values are left as null values (i.e., they are not converted to either 'true' or 'false')\n",
    "- The combined data is separated into individual GeoJSONs and written-out as individual files to their respective continent/region subdirectory in the 'spatial-indexes' repository\n",
    "    - Files' original names are maintained\n",
    "    - Fields containing only null values within an individual file are removed before being written-out"
   ]
  },
  {
   "cell_type": "code",
   "execution_count": 1,
   "id": "a9b71cc5",
   "metadata": {},
   "outputs": [],
   "source": [
    "# Import required libraries\n",
    "import os # For selecting files within a directory\n",
    "import pandas as pd # For data cleaning and manipulation\n",
    "import geopandas as gpd # For working with spatial data and GeoJSON files"
   ]
  },
  {
   "cell_type": "code",
   "execution_count": 3,
   "id": "88f46fad",
   "metadata": {},
   "outputs": [
    {
     "name": "stdout",
     "output_type": "stream",
     "text": [
      "Unexpected exception formatting exception. Falling back to standard exception\n"
     ]
    },
    {
     "name": "stderr",
     "output_type": "stream",
     "text": [
      "Traceback (most recent call last):\n",
      "  File \"fiona\\ogrext.pyx\", line 136, in fiona.ogrext.gdal_open_vector\n",
      "  File \"fiona\\_err.pyx\", line 291, in fiona._err.exc_wrap_pointer\n",
      "fiona._err.CPLE_OpenFailedError: a: No such file or directory\n",
      "\n",
      "During handling of the above exception, another exception occurred:\n",
      "\n",
      "Traceback (most recent call last):\n",
      "  File \"C:\\Users\\badimond\\Desktop\\maps_project\\spatial-indexes\\.venv\\lib\\site-packages\\IPython\\core\\interactiveshell.py\", line 3460, in run_code\n",
      "    exec(code_obj, self.user_global_ns, self.user_ns)\n",
      "  File \"C:\\Users\\badimond\\AppData\\Local\\Temp\\ipykernel_14268\\3496819265.py\", line 14, in <module>\n",
      "    geodataframe = gpd.read_file(file)\n",
      "  File \"C:\\Users\\badimond\\Desktop\\maps_project\\spatial-indexes\\.venv\\lib\\site-packages\\geopandas\\io\\file.py\", line 259, in _read_file\n",
      "    return _read_file_fiona(\n",
      "  File \"C:\\Users\\badimond\\Desktop\\maps_project\\spatial-indexes\\.venv\\lib\\site-packages\\geopandas\\io\\file.py\", line 303, in _read_file_fiona\n",
      "    with reader(path_or_bytes, **kwargs) as features:\n",
      "  File \"C:\\Users\\badimond\\Desktop\\maps_project\\spatial-indexes\\.venv\\lib\\site-packages\\fiona\\env.py\", line 457, in wrapper\n",
      "    return f(*args, **kwds)\n",
      "  File \"C:\\Users\\badimond\\Desktop\\maps_project\\spatial-indexes\\.venv\\lib\\site-packages\\fiona\\__init__.py\", line 365, in open\n",
      "    colxn = Collection(\n",
      "  File \"C:\\Users\\badimond\\Desktop\\maps_project\\spatial-indexes\\.venv\\lib\\site-packages\\fiona\\collection.py\", line 234, in __init__\n",
      "    self.session.start(self, **kwargs)\n",
      "  File \"fiona\\ogrext.pyx\", line 587, in fiona.ogrext.Session.start\n",
      "  File \"fiona\\ogrext.pyx\", line 143, in fiona.ogrext.gdal_open_vector\n",
      "fiona.errors.DriverError: a: No such file or directory\n",
      "\n",
      "During handling of the above exception, another exception occurred:\n",
      "\n",
      "Traceback (most recent call last):\n",
      "  File \"C:\\Users\\badimond\\Desktop\\maps_project\\spatial-indexes\\.venv\\lib\\site-packages\\IPython\\core\\interactiveshell.py\", line 2057, in showtraceback\n",
      "    stb = self.InteractiveTB.structured_traceback(\n",
      "  File \"C:\\Users\\badimond\\Desktop\\maps_project\\spatial-indexes\\.venv\\lib\\site-packages\\IPython\\core\\ultratb.py\", line 1288, in structured_traceback\n",
      "    return FormattedTB.structured_traceback(\n",
      "  File \"C:\\Users\\badimond\\Desktop\\maps_project\\spatial-indexes\\.venv\\lib\\site-packages\\IPython\\core\\ultratb.py\", line 1177, in structured_traceback\n",
      "    return VerboseTB.structured_traceback(\n",
      "  File \"C:\\Users\\badimond\\Desktop\\maps_project\\spatial-indexes\\.venv\\lib\\site-packages\\IPython\\core\\ultratb.py\", line 1049, in structured_traceback\n",
      "    formatted_exceptions += self.format_exception_as_a_whole(etype, evalue, etb, lines_of_context,\n",
      "  File \"C:\\Users\\badimond\\Desktop\\maps_project\\spatial-indexes\\.venv\\lib\\site-packages\\IPython\\core\\ultratb.py\", line 935, in format_exception_as_a_whole\n",
      "    self.get_records(etb, number_of_lines_of_context, tb_offset) if etb else []\n",
      "  File \"C:\\Users\\badimond\\Desktop\\maps_project\\spatial-indexes\\.venv\\lib\\site-packages\\IPython\\core\\ultratb.py\", line 1003, in get_records\n",
      "    lines, first = inspect.getsourcelines(etb.tb_frame)\n",
      "  File \"C:\\Users\\badimond\\Anaconda3\\lib\\inspect.py\", line 1006, in getsourcelines\n",
      "    lines, lnum = findsource(object)\n",
      "  File \"C:\\Users\\badimond\\Anaconda3\\lib\\inspect.py\", line 835, in findsource\n",
      "    raise OSError('could not get source code')\n",
      "OSError: could not get source code\n"
     ]
    }
   ],
   "source": [
    "# Select only the GeoJSON files within the 'spatial-indexes' GitHub repository\n",
    "# These files are stored in multiple subdirectories by continent/world region\n",
    "\n",
    "# List the names of the continents/regions subdirectories in the 'spatial-indexes' repository\n",
    "# Uses fact that folders lack file extensions to select subdirectories\n",
    "continents_regions = [item for item in os.listdir() if '.' not in item]\n",
    "\n",
    "geodataframes = []\n",
    "\n",
    "for directory in continents_regions:\n",
    "    os.chdir(directory)\n",
    "    for file in directory:\n",
    "        #if file.endswith('.geojson'):\n",
    "        geodataframe = gpd.read_file(file)\n",
    "        geodataframe['fileName'] = file\n",
    "        geodataframe['directoryName'] = directory\n",
    "        geodataframes.append(geodataframe)\n",
    "    os.chdir('..')\n",
    "\n",
    "all_geojsons = pd.concat(geodataframes)"
   ]
  },
  {
   "cell_type": "markdown",
   "id": "11fb6c6a",
   "metadata": {},
   "source": [
    "### Element titles from OIM specification"
   ]
  },
  {
   "cell_type": "code",
   "execution_count": 6,
   "id": "c36ab245",
   "metadata": {},
   "outputs": [
    {
     "data": {
      "text/plain": [
       "27     available\n",
       "19    bathInterv\n",
       "18     bathLines\n",
       "24         color\n",
       "17    contInterv\n",
       "16     contLines\n",
       "6           date\n",
       "8      datePhoto\n",
       "5        datePub\n",
       "9     dateReprnt\n",
       "7     dateSurvey\n",
       "29       digHold\n",
       "32      download\n",
       "11       edition\n",
       "36      fileName\n",
       "21      geometry\n",
       "35       iiifUrl\n",
       "25          inst\n",
       "30    instCallNo\n",
       "0          label\n",
       "1       labelAlt\n",
       "2      labelAlt2\n",
       "15      lcCallNo\n",
       "22      location\n",
       "37          note\n",
       "13      overlays\n",
       "10     overprint\n",
       "28      physHold\n",
       "20      primeMer\n",
       "14    projection\n",
       "12     publisher\n",
       "31         recId\n",
       "23         scale\n",
       "26       sheetId\n",
       "34      thumbUrl\n",
       "3          title\n",
       "4       titleAlt\n",
       "33    websiteUrl\n",
       "dtype: object"
      ]
     },
     "execution_count": 6,
     "metadata": {},
     "output_type": "execute_result"
    }
   ],
   "source": [
    "# Import and list (in alphabetical order) all element titles from the OIM specification\n",
    "elements_from_template = pd.Series(pd.read_csv('attribute_table_template_OIM_v1_0_0.csv').columns).sort_values()\n",
    "elements_from_template"
   ]
  },
  {
   "cell_type": "markdown",
   "id": "98078473",
   "metadata": {},
   "source": [
    "### Element titles from GeoJSON files"
   ]
  },
  {
   "cell_type": "code",
   "execution_count": 7,
   "id": "7312db08",
   "metadata": {},
   "outputs": [
    {
     "data": {
      "text/plain": [
       "22        available\n",
       "42        avaliable\n",
       "19          bathInt\n",
       "18        bathLines\n",
       "38            color\n",
       "17          contInt\n",
       "43       contInterv\n",
       "16        contLines\n",
       "6              date\n",
       "4         datePhoto\n",
       "2           datePub\n",
       "5       dateReprint\n",
       "3        dateSurvey\n",
       "24          digHold\n",
       "41       digHolding\n",
       "33    directoryName\n",
       "27         download\n",
       "46             east\n",
       "11          edition\n",
       "12     editionNotes\n",
       "32         fileName\n",
       "31         geometry\n",
       "36          iiifURL\n",
       "29          iiifUrl\n",
       "20             inst\n",
       "35         instCall\n",
       "25       instCallNo\n",
       "0             label\n",
       "1          labelAlt\n",
       "34           lcCall\n",
       "15         lcCallNo\n",
       "7          location\n",
       "45            north\n",
       "40             note\n",
       "30            notes\n",
       "23         physHold\n",
       "14       projection\n",
       "13        publisher\n",
       "26            recId\n",
       "8             scale\n",
       "39          sheetID\n",
       "21          sheetId\n",
       "47            south\n",
       "9             title\n",
       "10         titleAlt\n",
       "28       websiteUrl\n",
       "44             west\n",
       "37             year\n",
       "dtype: object"
      ]
     },
     "execution_count": 7,
     "metadata": {},
     "output_type": "execute_result"
    }
   ],
   "source": [
    "# Retrieve and list (in alphabetical order) all element titles from the selected GeoJSON files\n",
    "elements_from_geojsons = pd.Series(all_geojsons.columns).sort_values()\n",
    "elements_from_geojsons"
   ]
  },
  {
   "cell_type": "markdown",
   "id": "57aba1e7",
   "metadata": {},
   "source": [
    "### Element titles in GeoJSON files that do not match OIM specification"
   ]
  },
  {
   "cell_type": "code",
   "execution_count": 8,
   "id": "31fd64a7",
   "metadata": {},
   "outputs": [
    {
     "data": {
      "text/plain": [
       "42        avaliable\n",
       "19          bathInt\n",
       "17          contInt\n",
       "5       dateReprint\n",
       "41       digHolding\n",
       "33    directoryName\n",
       "46             east\n",
       "12     editionNotes\n",
       "36          iiifURL\n",
       "35         instCall\n",
       "34           lcCall\n",
       "45            north\n",
       "30            notes\n",
       "39          sheetID\n",
       "47            south\n",
       "44             west\n",
       "37             year\n",
       "dtype: object"
      ]
     },
     "execution_count": 8,
     "metadata": {},
     "output_type": "execute_result"
    }
   ],
   "source": [
    "# Check (and return) if any elements from the GeoJSON files do no match elements from the OIM specification\n",
    "# This cell returns any elements that do not match and whose titles need to be changed\n",
    "\n",
    "spec_check_mask = elements_from_geojsons.isin(elements_from_template)\n",
    "non_matching_elements = elements_from_geojsons[~spec_check_mask]\n",
    "non_matching_elements"
   ]
  },
  {
   "cell_type": "markdown",
   "id": "60642b33",
   "metadata": {},
   "source": [
    "### Classify element titles\n",
    "Classify the incorrect element titles above according to these three scenarios:\n",
    "1. The correct element title *is* present in our combined dataset of GeoJSON files\n",
    "    - **User action:**\n",
    "        - Compare the list above to the element titles from the GeoJSON files\n",
    "    - **Script actions:**\n",
    "        - Data will be transferred from the field with the incorrect title to the field with the correct title\n",
    "        - Fields with incorrect titles (which are now empty) will be dropped\n",
    "2. The correct element title *is not* present in our combined dataset of GeoJSON files\n",
    "    - **User action:**\n",
    "        - Compare the list above to the element titles from the GeoJSON files\n",
    "    - **Script action:**\n",
    "        - Since all the relevant data is contained in a single field (not split across multiple fields), the field will simply be renamed to the correct title\n",
    "3. The incorrect element title has no corresponding OIM equivalent (e.g., 'editionNotes')\n",
    "    - **User actions:**\n",
    "        - Compare the list above to the element titles from the OIM specification\n",
    "        - If you identify a non-OIM-equivalent title, decide which field to transfer these data to (e.g., 'edition' or 'note')\n",
    "    - **Script actions:**\n",
    "        - Determine whether the field(s) to transfer these data to already contains data\n",
    "        - If so, the data from the incorrect field(s) will be appended to the data in the correct field\n",
    "        - Fields with no equivalent OIM title (which are now empty) will be dropped"
   ]
  },
  {
   "cell_type": "markdown",
   "id": "e68bc23b",
   "metadata": {},
   "source": [
    "### Scenario 1"
   ]
  },
  {
   "cell_type": "markdown",
   "id": "47aa1f03",
   "metadata": {},
   "source": [
    "#### USER INPUT CELL"
   ]
  },
  {
   "cell_type": "code",
   "execution_count": 9,
   "id": "93583925",
   "metadata": {},
   "outputs": [
    {
     "name": "stdout",
     "output_type": "stream",
     "text": [
      "notes is not present in the elements_from_geojsons list. Please ensure the spelling of this title matches how it appears in the elements_from_geojsons list.\n",
      "lcCall is not present in the elements_from_geojsons list. Please ensure the spelling of this title matches how it appears in the elements_from_geojsons list.\n",
      "instCall is not present in the elements_from_geojsons list. Please ensure the spelling of this title matches how it appears in the elements_from_geojsons list.\n",
      "iiifURL is not present in the elements_from_geojsons list. Please ensure the spelling of this title matches how it appears in the elements_from_geojsons list.\n",
      "year is not present in the elements_from_geojsons list. Please ensure the spelling of this title matches how it appears in the elements_from_geojsons list.\n",
      "sheetID is not present in the elements_from_geojsons list. Please ensure the spelling of this title matches how it appears in the elements_from_geojsons list.\n",
      "digHolding is not present in the elements_from_geojsons list. Please ensure the spelling of this title matches how it appears in the elements_from_geojsons list.\n",
      "avaliable is not present in the elements_from_geojsons list. Please ensure the spelling of this title matches how it appears in the elements_from_geojsons list.\n",
      "contInt is not present in the elements_from_geojsons list. Please ensure the spelling of this title matches how it appears in the elements_from_geojsons list.\n"
     ]
    }
   ],
   "source": [
    "# Data in fields with incorrect OIM titles must be transferred to the corresponding field with the\n",
    "# correct title\n",
    "\n",
    "# Review 'elements_from_geojsons' list, and identify all instances where there are multiple variants\n",
    "# of a single element title (e.g., 'notes' and 'note')\n",
    "\n",
    "# Identify and add these in the 'mappings' list below\n",
    "# Incorrect element titles are on the left; their corresponding correct element title is on the right\n",
    "# NOTE: There may be multiple incorrect values on the left that map to the same correct value on the\n",
    "# right\n",
    "\n",
    "mappings = [\n",
    "    ('notes', 'note'),\n",
    "    ('lcCall', 'lcCallNo'),\n",
    "    ('instCall', 'instCallNo'),\n",
    "    ('iiifURL', 'iiifUrl'),\n",
    "    ('year', 'date'),\n",
    "    ('sheetID', 'sheetId'),\n",
    "    ('digHolding', 'digHold'),\n",
    "    ('avaliable', 'available'),\n",
    "    ('contInt', 'contInterv')\n",
    "]\n",
    "\n",
    "for i in mappings:\n",
    "    if i[0] in elements_from_geojsons:\n",
    "        all_geojsons.loc[all_geojsons[i[0]].notnull(), i[1]] = all_geojsons.loc[all_geojsons[i[0]].notnull(), i[0]]\n",
    "    else:\n",
    "        print(i[0] + ' is not present in the elements_from_geojsons list. Please ensure the spelling of this title matches how it appears in the elements_from_geojsons list.')"
   ]
  },
  {
   "cell_type": "code",
   "execution_count": 10,
   "id": "e52aac8c",
   "metadata": {},
   "outputs": [
    {
     "name": "stdout",
     "output_type": "stream",
     "text": [
      "notes is not present in the elements_from_geojsons list. Please ensure the spelling of this title in the above cell matches how it appears in the elements_from_geojsons list.\n",
      "lcCall is not present in the elements_from_geojsons list. Please ensure the spelling of this title in the above cell matches how it appears in the elements_from_geojsons list.\n",
      "instCall is not present in the elements_from_geojsons list. Please ensure the spelling of this title in the above cell matches how it appears in the elements_from_geojsons list.\n",
      "iiifURL is not present in the elements_from_geojsons list. Please ensure the spelling of this title in the above cell matches how it appears in the elements_from_geojsons list.\n",
      "year is not present in the elements_from_geojsons list. Please ensure the spelling of this title in the above cell matches how it appears in the elements_from_geojsons list.\n",
      "sheetID is not present in the elements_from_geojsons list. Please ensure the spelling of this title in the above cell matches how it appears in the elements_from_geojsons list.\n",
      "digHolding is not present in the elements_from_geojsons list. Please ensure the spelling of this title in the above cell matches how it appears in the elements_from_geojsons list.\n",
      "avaliable is not present in the elements_from_geojsons list. Please ensure the spelling of this title in the above cell matches how it appears in the elements_from_geojsons list.\n",
      "contInt is not present in the elements_from_geojsons list. Please ensure the spelling of this title in the above cell matches how it appears in the elements_from_geojsons list.\n"
     ]
    }
   ],
   "source": [
    "# Now that the data from fields with incorrect element titles have been transferred to fields with\n",
    "# correct element titles, the fields with incorrect element titles can be dropped from the\n",
    "# GeoDataFrame\n",
    "\n",
    "for i in mappings:\n",
    "    if i[0] in elements_from_geojsons:\n",
    "        duplicate_fields = [i[0] for i in mappings]\n",
    "        all_geojsons = all_geojsons.drop(columns = duplicate_fields)\n",
    "    else:\n",
    "        print(i[0] + ' is not present in the elements_from_geojsons list. Please ensure the spelling of this title in the above cell matches how it appears in the elements_from_geojsons list.')"
   ]
  },
  {
   "cell_type": "markdown",
   "id": "066760db",
   "metadata": {},
   "source": [
    "### Scenario 2"
   ]
  },
  {
   "cell_type": "markdown",
   "id": "47962687",
   "metadata": {},
   "source": [
    "#### USER INPUT CELL"
   ]
  },
  {
   "cell_type": "code",
   "execution_count": 11,
   "id": "f4f12c2e",
   "metadata": {},
   "outputs": [],
   "source": [
    "# Rename those incorrect titles whose corresponding correct title does not exist within the GeoJSON\n",
    "# files\n",
    "# Incorrect names are on the left; correct names are on the right\n",
    "\n",
    "all_geojsons = all_geojsons.rename(\n",
    "    columns = {\n",
    "        'bathInt': 'bathInterv',\n",
    "        'dateReprint': 'dateReprnt'\n",
    "    }\n",
    ")"
   ]
  },
  {
   "cell_type": "markdown",
   "id": "33731cb3",
   "metadata": {},
   "source": [
    "### Scenario 3"
   ]
  },
  {
   "cell_type": "markdown",
   "id": "23267afe",
   "metadata": {},
   "source": [
    "#### USER INPUT CELL"
   ]
  },
  {
   "cell_type": "code",
   "execution_count": 12,
   "id": "81ec8eb5",
   "metadata": {},
   "outputs": [],
   "source": [
    "# List the incorrect titles that have no equivalent within the OIM specification on the left and the designated fields to transfer the data to on the right\n",
    "\n",
    "no_equivalent = [\n",
    "    ('editionNotes', 'note')\n",
    "]"
   ]
  },
  {
   "cell_type": "code",
   "execution_count": 13,
   "id": "d3f37d66",
   "metadata": {},
   "outputs": [],
   "source": [
    "# Set all data types as 'string', with the exception of the 'geometry' field\n",
    "# This will make appending values between fields easier\n",
    "all_geojsons.loc[:, all_geojsons.select_dtypes('object').columns] = all_geojsons.select_dtypes('object').astype('string')"
   ]
  },
  {
   "cell_type": "code",
   "execution_count": 14,
   "id": "16fa9987",
   "metadata": {},
   "outputs": [
    {
     "name": "stdout",
     "output_type": "stream",
     "text": [
      "editionNotes is not present in the elements_from_geojsons list. Please ensure the spelling of this title in the mappings cell matches how it appears in the elements_from_geojsons list.\n"
     ]
    }
   ],
   "source": [
    "# For non-equivalent titles, transfer data to designated field\n",
    "# In cases where designated field already contains data, append data from non-equivalent title to this field using '; ' as separator\n",
    "\n",
    "if len(no_equivalent) != 0:\n",
    "    for i in no_equivalent:\n",
    "        if i[0] in elements_from_geojsons:\n",
    "            for x in range(len(all_geojsons)):\n",
    "                if (all_geojsons[i[1]].isna().iloc[x]) & (~all_geojsons[i[0]].isna().iloc[x]):\n",
    "                    all_geojsons[i[1]].iloc[x] = all_geojsons[i[0]].iloc[x]\n",
    "                elif (~all_geojsons[i[1]].isna().iloc[x]) & (all_geojsons[i[0]].isna().iloc[x]):\n",
    "                    all_geojsons[i[1]].iloc[x] = all_geojsons[i[1]].iloc[x]\n",
    "                else:\n",
    "                    all_geojsons[i[1]].iloc[x] = all_geojsons[i[1]].iloc[x] + '; ' + all_geojsons[i[0]].iloc[x]\n",
    "        else:\n",
    "            print(i[0] + ' is not present in the elements_from_geojsons list. Please ensure the spelling of this title in the mappings cell matches how it appears in the elements_from_geojsons list.')\n",
    "else:\n",
    "    print('You have determined that all element titles in the selected GeoJSON files have a corresponding title in the OIM specification.')"
   ]
  },
  {
   "cell_type": "code",
   "execution_count": 15,
   "id": "2bcfc1f2",
   "metadata": {},
   "outputs": [
    {
     "name": "stdout",
     "output_type": "stream",
     "text": [
      "editionNotes is not present in the elements_from_geojsons list. Please ensure the spelling of this title in the mappings cell matches how it appears in the elements_from_geojsons list.\n"
     ]
    }
   ],
   "source": [
    "# Now that the data from any field with no equivalent value in the OIM specification have been mapped\n",
    "# to other selected fields, these fields can be dropped\n",
    "\n",
    "if len(no_equivalent) != 0:\n",
    "    for i in no_equivalent:\n",
    "        if i[0] in elements_from_geojsons:\n",
    "            no_corresponding_field = [i[0] for i in no_equivalent]\n",
    "            all_geojsons = all_geojsons.drop(columns = no_corresponding_field)\n",
    "        else:\n",
    "            print(i[0] + ' is not present in the elements_from_geojsons list. Please ensure the spelling of this title in the mappings cell matches how it appears in the elements_from_geojsons list.')\n",
    "else:\n",
    "    print('You have determined that all element titles in the selected GeoJSON files have a corresponding title in the OIM specification.')"
   ]
  },
  {
   "cell_type": "markdown",
   "id": "d504aaa8",
   "metadata": {},
   "source": [
    "## Data cleaning"
   ]
  },
  {
   "cell_type": "markdown",
   "id": "db8f3e52",
   "metadata": {},
   "source": [
    "### Remove extra white space from fields"
   ]
  },
  {
   "cell_type": "code",
   "execution_count": 16,
   "id": "522a38b6",
   "metadata": {},
   "outputs": [],
   "source": [
    "# Create a list of 'string' type fields in the GeoDataFrame 'all_geojsons'\n",
    "string_fields = list(all_geojsons.select_dtypes(include = 'object').columns)"
   ]
  },
  {
   "cell_type": "code",
   "execution_count": 17,
   "id": "1aee3e70",
   "metadata": {},
   "outputs": [],
   "source": [
    "# Remove extra white space\n",
    "for field in string_fields:\n",
    "    all_geojsons[field] = all_geojsons[field].str.strip()"
   ]
  },
  {
   "cell_type": "markdown",
   "id": "6ceac692",
   "metadata": {},
   "source": [
    "### Check values in boolean fields\n",
    "- These values must equal either 'true', 'false', or null\n",
    "- Since Python booleans are of the form 'True'/'False', transforming these values must be done as strings, not booleans"
   ]
  },
  {
   "cell_type": "markdown",
   "id": "cd372f17",
   "metadata": {},
   "source": [
    "### 'available' field"
   ]
  },
  {
   "cell_type": "code",
   "execution_count": 18,
   "id": "1a269b5f",
   "metadata": {},
   "outputs": [
    {
     "data": {
      "text/plain": [
       "['true',\n",
       " 'false',\n",
       " 'True',\n",
       " 'False',\n",
       " 'TRUE',\n",
       " 'FALSE',\n",
       " 'y',\n",
       " 'n',\n",
       " <NA>,\n",
       " 'yes',\n",
       " 'no']"
      ]
     },
     "execution_count": 18,
     "metadata": {},
     "output_type": "execute_result"
    }
   ],
   "source": [
    "# Show the unique values for the field\n",
    "list(all_geojsons['available'].unique())"
   ]
  },
  {
   "cell_type": "markdown",
   "id": "fbeb1751",
   "metadata": {},
   "source": [
    "#### USER INPUT CELL"
   ]
  },
  {
   "cell_type": "code",
   "execution_count": 19,
   "id": "dbb23ad4",
   "metadata": {},
   "outputs": [],
   "source": [
    "# Create and apply a mapping to transform the incorrect values to the correct values\n",
    "# Incorrect values are on the left; correct values are on the right\n",
    "# Null values (<NA>) can be left as null\n",
    "\n",
    "available_mapping = {\n",
    "    'TRUE': 'true',\n",
    "    'True': 'true',\n",
    "    'y': 'true',\n",
    "    'FALSE': 'false',\n",
    "    'False': 'false',\n",
    "    'n': 'false'\n",
    "}\n",
    "\n",
    "all_geojsons['available'] = all_geojsons['available'].replace(available_mapping)"
   ]
  },
  {
   "cell_type": "code",
   "execution_count": 20,
   "id": "dc850f19",
   "metadata": {},
   "outputs": [
    {
     "data": {
      "text/plain": [
       "['canada_britishColumbia_columbiaRiverBasin_1958',\n",
       " 'canada_britishColumbia_gvrd',\n",
       " 'canada_britishColumbia_ifcsm']"
      ]
     },
     "execution_count": 20,
     "metadata": {},
     "output_type": "execute_result"
    }
   ],
   "source": [
    "# Identify those files with null values in the 'available' field\n",
    "list(all_geojsons.loc[all_geojsons['available'].isna(), 'fileName'].unique())"
   ]
  },
  {
   "cell_type": "code",
   "execution_count": 21,
   "id": "454a1270",
   "metadata": {},
   "outputs": [],
   "source": [
    "# Replace null values with 'true'\n",
    "# Assumes that inventory records are created for maps that are physically present and, therefore,\n",
    "# available\n",
    "all_geojsons.loc[all_geojsons['available'].isna(), 'available'] = 'true'"
   ]
  },
  {
   "cell_type": "markdown",
   "id": "e67d9cba",
   "metadata": {},
   "source": [
    "### 'contLines'"
   ]
  },
  {
   "cell_type": "code",
   "execution_count": 22,
   "id": "c2c4a9f0",
   "metadata": {},
   "outputs": [
    {
     "data": {
      "text/plain": [
       "['true', 'false', <NA>, 'no', 'TRUE']"
      ]
     },
     "execution_count": 22,
     "metadata": {},
     "output_type": "execute_result"
    }
   ],
   "source": [
    "# Show the unique values for the field\n",
    "list(all_geojsons['contLines'].unique())"
   ]
  },
  {
   "cell_type": "markdown",
   "id": "b8aa0494",
   "metadata": {},
   "source": [
    "#### USER INPUT CELL"
   ]
  },
  {
   "cell_type": "code",
   "execution_count": 23,
   "id": "7c577600",
   "metadata": {},
   "outputs": [],
   "source": [
    "# Create and apply a mapping to transform the incorrect values to the correct values\n",
    "# Incorrect values are on the left; correct values are on the right\n",
    "# Null values (<NA>) can be left as null\n",
    "\n",
    "contLines_mapping = {\n",
    "    'TRUE': 'true',\n",
    "    'no': 'false'\n",
    "}\n",
    "\n",
    "all_geojsons['contLines'] = all_geojsons['contLines'].replace(contLines_mapping)"
   ]
  },
  {
   "cell_type": "code",
   "execution_count": 24,
   "id": "2964fe3a",
   "metadata": {},
   "outputs": [
    {
     "data": {
      "text/plain": [
       "['china_250k_L532',\n",
       " 'china_250k_L542',\n",
       " 'china_250k_L581',\n",
       " 'china_250k_L582',\n",
       " 'indonesia_250k',\n",
       " 'france_250k',\n",
       " 'france_500k',\n",
       " 'iceland_250k',\n",
       " 'canada_250k_nts',\n",
       " 'canada_25k_nts',\n",
       " 'canada_500k_nts',\n",
       " 'canada_50k_nts',\n",
       " 'canada_alberta_50k_nts',\n",
       " 'canada_britishColumbia_50k_nts',\n",
       " 'canada_britishColumbia_columbiaRiverBasin_1958',\n",
       " 'canada_britishColumbia_gvrd',\n",
       " 'canada_manitoba_50k_nts',\n",
       " 'canada_northwestTerritory_50k_nts',\n",
       " 'canada_saskatchewan_50k_nts',\n",
       " 'canada_yukonTerritory_50k_nts']"
      ]
     },
     "execution_count": 24,
     "metadata": {},
     "output_type": "execute_result"
    }
   ],
   "source": [
    "# Identify those files with null values in the 'contLines' field\n",
    "list(all_geojsons.loc[all_geojsons['contLines'].isna(), 'fileName'].unique())"
   ]
  },
  {
   "cell_type": "code",
   "execution_count": 25,
   "id": "bed847db",
   "metadata": {},
   "outputs": [],
   "source": [
    "# # Replace null values with 'false'\n",
    "# # Assumes any map without a value in this field does not contain contour lines\n",
    "# all_geojsons.loc[all_geojsons['contLines'].isna(), 'contLines'] = 'false'"
   ]
  },
  {
   "cell_type": "markdown",
   "id": "4dc1f341",
   "metadata": {},
   "source": [
    "### 'bathLines'"
   ]
  },
  {
   "cell_type": "code",
   "execution_count": 26,
   "id": "6e85bc05",
   "metadata": {},
   "outputs": [
    {
     "data": {
      "text/plain": [
       "['true', 'false', <NA>, 'FALSE']"
      ]
     },
     "execution_count": 26,
     "metadata": {},
     "output_type": "execute_result"
    }
   ],
   "source": [
    "# Show the unique values for the field\n",
    "# Null values (<NA>) can be left as null\n",
    "list(all_geojsons['bathLines'].unique())"
   ]
  },
  {
   "cell_type": "markdown",
   "id": "bef3bc7f",
   "metadata": {},
   "source": [
    "#### USER INPUT CELL"
   ]
  },
  {
   "cell_type": "code",
   "execution_count": 27,
   "id": "8512c955",
   "metadata": {},
   "outputs": [],
   "source": [
    "# # Create and apply a mapping to transform the incorrect values to the correct values\n",
    "# # Incorrect values are on the left; correct values are on the right\n",
    "# # Null values (<NA>) can be left as null\n",
    "\n",
    "# bathLines_mapping = {\n",
    "#     'incorrect_a': 'correct_a',\n",
    "#     'incorrect_b': 'correct_b'\n",
    "# }\n",
    "\n",
    "# all_geojsons['bathLines'] = all_geojsons['bathLines'].replace(bathLines_mapping)"
   ]
  },
  {
   "cell_type": "code",
   "execution_count": 28,
   "id": "db2c5e25",
   "metadata": {},
   "outputs": [
    {
     "data": {
      "text/plain": [
       "['china_250k_L532',\n",
       " 'china_250k_L542',\n",
       " 'china_250k_L581',\n",
       " 'china_250k_L582',\n",
       " 'indonesia_250k',\n",
       " 'france_250k',\n",
       " 'france_500k',\n",
       " 'iceland_250k',\n",
       " 'canada_250k_nts',\n",
       " 'canada_25k_nts',\n",
       " 'canada_500k_nts',\n",
       " 'canada_50k_nts',\n",
       " 'canada_alberta_50k_nts',\n",
       " 'canada_britishColumbia_50k_nts',\n",
       " 'canada_britishColumbia_columbiaRiverBasin_1958',\n",
       " 'canada_britishColumbia_gvrd',\n",
       " 'canada_britishColumbia_ifcsm',\n",
       " 'canada_britishColumbia_ubc',\n",
       " 'canada_britishColumbia_yaletown',\n",
       " 'canada_manitoba_50k_nts',\n",
       " 'canada_northwestTerritory_50k_nts',\n",
       " 'canada_saskatchewan_50k_nts',\n",
       " 'canada_yukonTerritory_50k_nts']"
      ]
     },
     "execution_count": 28,
     "metadata": {},
     "output_type": "execute_result"
    }
   ],
   "source": [
    "# Identify those files with null values in the 'bathLines' field\n",
    "list(all_geojsons.loc[all_geojsons['bathLines'].isna(), 'fileName'].unique())"
   ]
  },
  {
   "cell_type": "code",
   "execution_count": 29,
   "id": "1f060daf",
   "metadata": {},
   "outputs": [],
   "source": [
    "# # Replace null values with 'false'\n",
    "# # Assumes any map without a value in this field does not contain bathymetry lines\n",
    "# all_geojsons.loc[all_geojsons['bathLines'].isna(), 'bathLines'] = 'false'"
   ]
  },
  {
   "cell_type": "markdown",
   "id": "bd3ebd68",
   "metadata": {},
   "source": [
    "## Write files"
   ]
  },
  {
   "cell_type": "code",
   "execution_count": 31,
   "id": "c2ffd6bb",
   "metadata": {},
   "outputs": [
    {
     "name": "stderr",
     "output_type": "stream",
     "text": [
      "c:\\Users\\badimond\\Anaconda3\\lib\\site-packages\\geopandas\\io\\file.py:299: FutureWarning: pandas.Int64Index is deprecated and will be removed from pandas in a future version. Use pandas.Index with the appropriate dtype instead.\n",
      "  pd.Int64Index,\n",
      "c:\\Users\\badimond\\Anaconda3\\lib\\site-packages\\geopandas\\io\\file.py:299: FutureWarning: pandas.Int64Index is deprecated and will be removed from pandas in a future version. Use pandas.Index with the appropriate dtype instead.\n",
      "  pd.Int64Index,\n",
      "c:\\Users\\badimond\\Anaconda3\\lib\\site-packages\\geopandas\\io\\file.py:299: FutureWarning: pandas.Int64Index is deprecated and will be removed from pandas in a future version. Use pandas.Index with the appropriate dtype instead.\n",
      "  pd.Int64Index,\n",
      "c:\\Users\\badimond\\Anaconda3\\lib\\site-packages\\geopandas\\io\\file.py:299: FutureWarning: pandas.Int64Index is deprecated and will be removed from pandas in a future version. Use pandas.Index with the appropriate dtype instead.\n",
      "  pd.Int64Index,\n",
      "c:\\Users\\badimond\\Anaconda3\\lib\\site-packages\\geopandas\\io\\file.py:299: FutureWarning: pandas.Int64Index is deprecated and will be removed from pandas in a future version. Use pandas.Index with the appropriate dtype instead.\n",
      "  pd.Int64Index,\n",
      "c:\\Users\\badimond\\Anaconda3\\lib\\site-packages\\geopandas\\io\\file.py:299: FutureWarning: pandas.Int64Index is deprecated and will be removed from pandas in a future version. Use pandas.Index with the appropriate dtype instead.\n",
      "  pd.Int64Index,\n",
      "c:\\Users\\badimond\\Anaconda3\\lib\\site-packages\\geopandas\\io\\file.py:299: FutureWarning: pandas.Int64Index is deprecated and will be removed from pandas in a future version. Use pandas.Index with the appropriate dtype instead.\n",
      "  pd.Int64Index,\n",
      "c:\\Users\\badimond\\Anaconda3\\lib\\site-packages\\geopandas\\io\\file.py:299: FutureWarning: pandas.Int64Index is deprecated and will be removed from pandas in a future version. Use pandas.Index with the appropriate dtype instead.\n",
      "  pd.Int64Index,\n",
      "c:\\Users\\badimond\\Anaconda3\\lib\\site-packages\\geopandas\\io\\file.py:299: FutureWarning: pandas.Int64Index is deprecated and will be removed from pandas in a future version. Use pandas.Index with the appropriate dtype instead.\n",
      "  pd.Int64Index,\n",
      "c:\\Users\\badimond\\Anaconda3\\lib\\site-packages\\geopandas\\io\\file.py:299: FutureWarning: pandas.Int64Index is deprecated and will be removed from pandas in a future version. Use pandas.Index with the appropriate dtype instead.\n",
      "  pd.Int64Index,\n",
      "c:\\Users\\badimond\\Anaconda3\\lib\\site-packages\\geopandas\\io\\file.py:299: FutureWarning: pandas.Int64Index is deprecated and will be removed from pandas in a future version. Use pandas.Index with the appropriate dtype instead.\n",
      "  pd.Int64Index,\n",
      "c:\\Users\\badimond\\Anaconda3\\lib\\site-packages\\geopandas\\io\\file.py:299: FutureWarning: pandas.Int64Index is deprecated and will be removed from pandas in a future version. Use pandas.Index with the appropriate dtype instead.\n",
      "  pd.Int64Index,\n",
      "c:\\Users\\badimond\\Anaconda3\\lib\\site-packages\\geopandas\\io\\file.py:299: FutureWarning: pandas.Int64Index is deprecated and will be removed from pandas in a future version. Use pandas.Index with the appropriate dtype instead.\n",
      "  pd.Int64Index,\n",
      "c:\\Users\\badimond\\Anaconda3\\lib\\site-packages\\geopandas\\io\\file.py:299: FutureWarning: pandas.Int64Index is deprecated and will be removed from pandas in a future version. Use pandas.Index with the appropriate dtype instead.\n",
      "  pd.Int64Index,\n",
      "c:\\Users\\badimond\\Anaconda3\\lib\\site-packages\\geopandas\\io\\file.py:299: FutureWarning: pandas.Int64Index is deprecated and will be removed from pandas in a future version. Use pandas.Index with the appropriate dtype instead.\n",
      "  pd.Int64Index,\n",
      "c:\\Users\\badimond\\Anaconda3\\lib\\site-packages\\geopandas\\io\\file.py:299: FutureWarning: pandas.Int64Index is deprecated and will be removed from pandas in a future version. Use pandas.Index with the appropriate dtype instead.\n",
      "  pd.Int64Index,\n",
      "c:\\Users\\badimond\\Anaconda3\\lib\\site-packages\\geopandas\\io\\file.py:299: FutureWarning: pandas.Int64Index is deprecated and will be removed from pandas in a future version. Use pandas.Index with the appropriate dtype instead.\n",
      "  pd.Int64Index,\n",
      "c:\\Users\\badimond\\Anaconda3\\lib\\site-packages\\geopandas\\io\\file.py:299: FutureWarning: pandas.Int64Index is deprecated and will be removed from pandas in a future version. Use pandas.Index with the appropriate dtype instead.\n",
      "  pd.Int64Index,\n",
      "c:\\Users\\badimond\\Anaconda3\\lib\\site-packages\\geopandas\\io\\file.py:299: FutureWarning: pandas.Int64Index is deprecated and will be removed from pandas in a future version. Use pandas.Index with the appropriate dtype instead.\n",
      "  pd.Int64Index,\n",
      "c:\\Users\\badimond\\Anaconda3\\lib\\site-packages\\geopandas\\io\\file.py:299: FutureWarning: pandas.Int64Index is deprecated and will be removed from pandas in a future version. Use pandas.Index with the appropriate dtype instead.\n",
      "  pd.Int64Index,\n",
      "c:\\Users\\badimond\\Anaconda3\\lib\\site-packages\\geopandas\\io\\file.py:299: FutureWarning: pandas.Int64Index is deprecated and will be removed from pandas in a future version. Use pandas.Index with the appropriate dtype instead.\n",
      "  pd.Int64Index,\n",
      "c:\\Users\\badimond\\Anaconda3\\lib\\site-packages\\geopandas\\io\\file.py:299: FutureWarning: pandas.Int64Index is deprecated and will be removed from pandas in a future version. Use pandas.Index with the appropriate dtype instead.\n",
      "  pd.Int64Index,\n",
      "c:\\Users\\badimond\\Anaconda3\\lib\\site-packages\\geopandas\\io\\file.py:299: FutureWarning: pandas.Int64Index is deprecated and will be removed from pandas in a future version. Use pandas.Index with the appropriate dtype instead.\n",
      "  pd.Int64Index,\n",
      "c:\\Users\\badimond\\Anaconda3\\lib\\site-packages\\geopandas\\io\\file.py:299: FutureWarning: pandas.Int64Index is deprecated and will be removed from pandas in a future version. Use pandas.Index with the appropriate dtype instead.\n",
      "  pd.Int64Index,\n",
      "c:\\Users\\badimond\\Anaconda3\\lib\\site-packages\\geopandas\\io\\file.py:299: FutureWarning: pandas.Int64Index is deprecated and will be removed from pandas in a future version. Use pandas.Index with the appropriate dtype instead.\n",
      "  pd.Int64Index,\n",
      "c:\\Users\\badimond\\Anaconda3\\lib\\site-packages\\geopandas\\io\\file.py:299: FutureWarning: pandas.Int64Index is deprecated and will be removed from pandas in a future version. Use pandas.Index with the appropriate dtype instead.\n",
      "  pd.Int64Index,\n"
     ]
    }
   ],
   "source": [
    "# Drop 'fileName' field, remove fields with only null values, and write as individual GeoJSON files back to original continent/world region directory\n",
    "\n",
    "for dictionary in directories_and_files:\n",
    "    os.chdir(list(dictionary.keys())[0])\n",
    "    for file in os.listdir():\n",
    "        if file.endswith('.geojson'):\n",
    "            gdf = all_geojsons.loc[all_geojsons['fileName'] == file.replace('.geojson', '')]\n",
    "            gdf = gdf.drop(columns = ['directoryName', 'fileName'])\n",
    "            for column in gdf.columns:\n",
    "                if gdf[column].isna().sum() == len(gdf[column]):\n",
    "                    gdf = gdf.drop(columns = column)\n",
    "            gdf.to_file(file, driver = 'GeoJSON')\n",
    "    os.chdir('..')"
   ]
  }
 ],
 "metadata": {
  "kernelspec": {
   "display_name": ".venv",
   "language": "python",
   "name": ".venv"
  },
  "language_info": {
   "codemirror_mode": {
    "name": "ipython",
    "version": 3
   },
   "file_extension": ".py",
   "mimetype": "text/x-python",
   "name": "python",
   "nbconvert_exporter": "python",
   "pygments_lexer": "ipython3",
   "version": "3.9.12"
  },
  "vscode": {
   "interpreter": {
    "hash": "82813dfea1e177edfbdd53edf415877e13e7e97cc12aa6b343cb48825716645d"
   }
  }
 },
 "nbformat": 4,
 "nbformat_minor": 5
}
